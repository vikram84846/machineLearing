{
 "cells": [
  {
   "cell_type": "code",
   "execution_count": 85,
   "id": "6a1b715a",
   "metadata": {},
   "outputs": [
    {
     "name": "stdout",
     "output_type": "stream",
     "text": [
      "enter the values:1 2\\n3 4\\n5 6\n"
     ]
    }
   ],
   "source": [
    "vaues = input(\"enter the values:\")"
   ]
  },
  {
   "cell_type": "code",
   "execution_count": 86,
   "id": "a82779fe",
   "metadata": {},
   "outputs": [
    {
     "data": {
      "text/plain": [
       "'1 2\\\\n3 4\\\\n5 6'"
      ]
     },
     "execution_count": 86,
     "metadata": {},
     "output_type": "execute_result"
    }
   ],
   "source": [
    "vaues"
   ]
  },
  {
   "cell_type": "code",
   "execution_count": 87,
   "id": "95c7f3af",
   "metadata": {},
   "outputs": [],
   "source": [
    "\n",
    "lst = vaues.strip().split(\"\\\\n\")"
   ]
  },
  {
   "cell_type": "code",
   "execution_count": 88,
   "id": "7ca27113",
   "metadata": {},
   "outputs": [
    {
     "data": {
      "text/plain": [
       "['1 2', '3 4', '5 6']"
      ]
     },
     "execution_count": 88,
     "metadata": {},
     "output_type": "execute_result"
    }
   ],
   "source": [
    "lst"
   ]
  },
  {
   "cell_type": "code",
   "execution_count": 92,
   "id": "5494a59d",
   "metadata": {},
   "outputs": [],
   "source": [
    "for element in lst:\n",
    "    x = element.strip().split(\" \")\n",
    "    lst1.append(x)\n",
    " "
   ]
  },
  {
   "cell_type": "code",
   "execution_count": 94,
   "id": "4a40268f",
   "metadata": {},
   "outputs": [],
   "source": [
    "arr =np.array(lst1,dtype=\"int32\")"
   ]
  },
  {
   "cell_type": "code",
   "execution_count": 96,
   "id": "8d3a6ca9",
   "metadata": {},
   "outputs": [
    {
     "data": {
      "text/plain": [
       "array([[1, 3, 5],\n",
       "       [2, 4, 6]])"
      ]
     },
     "execution_count": 96,
     "metadata": {},
     "output_type": "execute_result"
    }
   ],
   "source": [
    "arr.transpose()"
   ]
  },
  {
   "cell_type": "code",
   "execution_count": 97,
   "id": "2992009e",
   "metadata": {},
   "outputs": [
    {
     "data": {
      "text/plain": [
       "array([1, 2, 3, 4, 5, 6])"
      ]
     },
     "execution_count": 97,
     "metadata": {},
     "output_type": "execute_result"
    }
   ],
   "source": [
    "arr.flatten()"
   ]
  },
  {
   "cell_type": "code",
   "execution_count": 22,
   "id": "f09dc518",
   "metadata": {},
   "outputs": [],
   "source": [
    "lst.reverse()"
   ]
  },
  {
   "cell_type": "code",
   "execution_count": 24,
   "id": "146ab8ef",
   "metadata": {},
   "outputs": [
    {
     "data": {
      "text/plain": [
       "['-23', '-1', '7', '5', '4', '3']"
      ]
     },
     "execution_count": 24,
     "metadata": {},
     "output_type": "execute_result"
    }
   ],
   "source": [
    "lst[::-1]"
   ]
  },
  {
   "cell_type": "code",
   "execution_count": 36,
   "id": "348fe37d",
   "metadata": {},
   "outputs": [
    {
     "name": "stdout",
     "output_type": "stream",
     "text": [
      "23 12 23 21\n",
      "[21. 23. 12. 23.]\n"
     ]
    }
   ],
   "source": [
    "def arrays(arr):\n",
    "    # complete this function\n",
    "    # use numpy.array\n",
    "    return np.array(arr[::-1],dtype=\"float64\")\n",
    "\n",
    "arr = input().strip().split(' ')\n",
    "result = arrays(arr)\n",
    "print(result)"
   ]
  },
  {
   "cell_type": "code",
   "execution_count": 37,
   "id": "347f6239",
   "metadata": {},
   "outputs": [
    {
     "name": "stdout",
     "output_type": "stream",
     "text": [
      "enter the values1 2 3 4 5 6 7 8 9\n"
     ]
    }
   ],
   "source": [
    "arr = input(\"enter the values\")"
   ]
  },
  {
   "cell_type": "code",
   "execution_count": 38,
   "id": "fcef312a",
   "metadata": {},
   "outputs": [
    {
     "data": {
      "text/plain": [
       "'1 2 3 4 5 6 7 8 9'"
      ]
     },
     "execution_count": 38,
     "metadata": {},
     "output_type": "execute_result"
    }
   ],
   "source": [
    "arr"
   ]
  },
  {
   "cell_type": "code",
   "execution_count": 39,
   "id": "f4fcbbc7",
   "metadata": {},
   "outputs": [],
   "source": [
    "lst =arr.strip().split()"
   ]
  },
  {
   "cell_type": "code",
   "execution_count": 40,
   "id": "75407b71",
   "metadata": {},
   "outputs": [
    {
     "data": {
      "text/plain": [
       "['1', '2', '3', '4', '5', '6', '7', '8', '9']"
      ]
     },
     "execution_count": 40,
     "metadata": {},
     "output_type": "execute_result"
    }
   ],
   "source": [
    "lst"
   ]
  },
  {
   "cell_type": "code",
   "execution_count": 44,
   "id": "77b3c31b",
   "metadata": {},
   "outputs": [],
   "source": [
    "a =np.array(lst,dtype =\"int32\")"
   ]
  },
  {
   "cell_type": "code",
   "execution_count": 45,
   "id": "adc0bc0c",
   "metadata": {},
   "outputs": [
    {
     "data": {
      "text/plain": [
       "array([[1, 2, 3],\n",
       "       [4, 5, 6],\n",
       "       [7, 8, 9]])"
      ]
     },
     "execution_count": 45,
     "metadata": {},
     "output_type": "execute_result"
    }
   ],
   "source": [
    "a.reshape((3,3))"
   ]
  },
  {
   "cell_type": "code",
   "execution_count": null,
   "id": "13409e04",
   "metadata": {},
   "outputs": [],
   "source": []
  }
 ],
 "metadata": {
  "kernelspec": {
   "display_name": "Python 3 (ipykernel)",
   "language": "python",
   "name": "python3"
  },
  "language_info": {
   "codemirror_mode": {
    "name": "ipython",
    "version": 3
   },
   "file_extension": ".py",
   "mimetype": "text/x-python",
   "name": "python",
   "nbconvert_exporter": "python",
   "pygments_lexer": "ipython3",
   "version": "3.10.9"
  }
 },
 "nbformat": 4,
 "nbformat_minor": 5
}
