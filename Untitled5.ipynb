{
 "cells": [
  {
   "cell_type": "code",
   "execution_count": 1,
   "id": "fd4880e8",
   "metadata": {},
   "outputs": [],
   "source": [
    "import pandas as pd\n",
    "import numpy as np"
   ]
  },
  {
   "cell_type": "code",
   "execution_count": 2,
   "id": "6e6f7969",
   "metadata": {},
   "outputs": [],
   "source": [
    "data = pd.DataFrame([[\"Vikram\",23,20234],[\"Karan\",23,23453]],columns=[\"shape\",\"age\",\"rollno\"],index = [\"A\",\"B\"])"
   ]
  },
  {
   "cell_type": "code",
   "execution_count": 4,
   "id": "7f25e2dd",
   "metadata": {},
   "outputs": [],
   "source": [
    "x = data.groupby(\"age\")"
   ]
  },
  {
   "cell_type": "code",
   "execution_count": 12,
   "id": "1daed769",
   "metadata": {},
   "outputs": [
    {
     "data": {
      "text/html": [
       "<div>\n",
       "<style scoped>\n",
       "    .dataframe tbody tr th:only-of-type {\n",
       "        vertical-align: middle;\n",
       "    }\n",
       "\n",
       "    .dataframe tbody tr th {\n",
       "        vertical-align: top;\n",
       "    }\n",
       "\n",
       "    .dataframe thead th {\n",
       "        text-align: right;\n",
       "    }\n",
       "</style>\n",
       "<table border=\"1\" class=\"dataframe\">\n",
       "  <thead>\n",
       "    <tr style=\"text-align: right;\">\n",
       "      <th></th>\n",
       "      <th>shape</th>\n",
       "      <th>rollno</th>\n",
       "    </tr>\n",
       "    <tr>\n",
       "      <th>age</th>\n",
       "      <th></th>\n",
       "      <th></th>\n",
       "    </tr>\n",
       "  </thead>\n",
       "  <tbody>\n",
       "    <tr>\n",
       "      <th>23</th>\n",
       "      <td>Vikram</td>\n",
       "      <td>20234</td>\n",
       "    </tr>\n",
       "  </tbody>\n",
       "</table>\n",
       "</div>"
      ],
      "text/plain": [
       "      shape  rollno\n",
       "age                \n",
       "23   Vikram   20234"
      ]
     },
     "execution_count": 12,
     "metadata": {},
     "output_type": "execute_result"
    }
   ],
   "source": [
    "\n"
   ]
  },
  {
   "cell_type": "code",
   "execution_count": 169,
   "id": "2d9d3fc7",
   "metadata": {},
   "outputs": [
    {
     "data": {
      "text/html": [
       "<div>\n",
       "<style scoped>\n",
       "    .dataframe tbody tr th:only-of-type {\n",
       "        vertical-align: middle;\n",
       "    }\n",
       "\n",
       "    .dataframe tbody tr th {\n",
       "        vertical-align: top;\n",
       "    }\n",
       "\n",
       "    .dataframe thead th {\n",
       "        text-align: right;\n",
       "    }\n",
       "</style>\n",
       "<table border=\"1\" class=\"dataframe\">\n",
       "  <thead>\n",
       "    <tr style=\"text-align: right;\">\n",
       "      <th></th>\n",
       "      <th>shape</th>\n",
       "      <th>age</th>\n",
       "      <th>rollno</th>\n",
       "      <th>xyz</th>\n",
       "    </tr>\n",
       "  </thead>\n",
       "  <tbody>\n",
       "    <tr>\n",
       "      <th>B</th>\n",
       "      <td>Karan</td>\n",
       "      <td>23</td>\n",
       "      <td>23453</td>\n",
       "      <td>21</td>\n",
       "    </tr>\n",
       "  </tbody>\n",
       "</table>\n",
       "</div>"
      ],
      "text/plain": [
       "   shape  age  rollno  xyz\n",
       "B  Karan   23   23453   21"
      ]
     },
     "execution_count": 169,
     "metadata": {},
     "output_type": "execute_result"
    }
   ],
   "source": [
    "data.drop(axis=0,index=\"A\")"
   ]
  },
  {
   "cell_type": "code",
   "execution_count": 156,
   "id": "2bd9103d",
   "metadata": {},
   "outputs": [
    {
     "data": {
      "text/plain": [
       "A    False\n",
       "B     True\n",
       "Name: shape, dtype: bool"
      ]
     },
     "execution_count": 156,
     "metadata": {},
     "output_type": "execute_result"
    }
   ],
   "source": [
    "data[\"shape\"]==\"Karan\""
   ]
  },
  {
   "cell_type": "code",
   "execution_count": 118,
   "id": "c10ba5b6",
   "metadata": {},
   "outputs": [
    {
     "data": {
      "text/plain": [
       "0    True\n",
       "dtype: bool"
      ]
     },
     "execution_count": 118,
     "metadata": {},
     "output_type": "execute_result"
    }
   ],
   "source": [
    "s1"
   ]
  },
  {
   "cell_type": "code",
   "execution_count": 119,
   "id": "4390e213",
   "metadata": {},
   "outputs": [],
   "source": [
    "s2 = pd.Series(True)"
   ]
  },
  {
   "cell_type": "code",
   "execution_count": 120,
   "id": "78b91d24",
   "metadata": {},
   "outputs": [
    {
     "data": {
      "text/plain": [
       "0    True\n",
       "dtype: bool"
      ]
     },
     "execution_count": 120,
     "metadata": {},
     "output_type": "execute_result"
    }
   ],
   "source": [
    "s2"
   ]
  },
  {
   "cell_type": "code",
   "execution_count": 122,
   "id": "f979e117",
   "metadata": {},
   "outputs": [
    {
     "data": {
      "text/plain": [
       "True"
      ]
     },
     "execution_count": 122,
     "metadata": {},
     "output_type": "execute_result"
    }
   ],
   "source": [
    "s1[0] and s2[0]"
   ]
  },
  {
   "cell_type": "code",
   "execution_count": 128,
   "id": "51a7f60f",
   "metadata": {},
   "outputs": [],
   "source": [
    "\n",
    "record = {\n",
    "  'Name': ['Ankit', 'Amit', 'Aishwarya', 'Priyanka', 'Priya', 'Shaurya' ],\n",
    "  'Age': [21, 19, 20, 18, 17, 21],\n",
    "  'Stream': ['Math', 'Commerce', 'Science', 'Math', 'Math', 'Science'],\n",
    "  'Percentage': [88, 92, 95, 70, 65, 78]}\n",
    "\n"
   ]
  },
  {
   "cell_type": "code",
   "execution_count": 129,
   "id": "624b0a9a",
   "metadata": {},
   "outputs": [
    {
     "data": {
      "text/plain": [
       "{'Name': ['Ankit', 'Amit', 'Aishwarya', 'Priyanka', 'Priya', 'Shaurya'],\n",
       " 'Age': [21, 19, 20, 18, 17, 21],\n",
       " 'Stream': ['Math', 'Commerce', 'Science', 'Math', 'Math', 'Science'],\n",
       " 'Percentage': [88, 92, 95, 70, 65, 78]}"
      ]
     },
     "execution_count": 129,
     "metadata": {},
     "output_type": "execute_result"
    }
   ],
   "source": [
    "record"
   ]
  },
  {
   "cell_type": "code",
   "execution_count": 130,
   "id": "85450b12",
   "metadata": {},
   "outputs": [
    {
     "name": "stdout",
     "output_type": "stream",
     "text": [
      "Given Dataframe :\n",
      "         Name  Age    Stream  Percentage\n",
      "0      Ankit   21      Math          88\n",
      "1       Amit   19  Commerce          92\n",
      "2  Aishwarya   20   Science          95\n",
      "3   Priyanka   18      Math          70\n",
      "4      Priya   17      Math          65\n",
      "5    Shaurya   21   Science          78\n"
     ]
    }
   ],
   "source": [
    "# create a dataframe\n",
    "dataframe = pd.DataFrame(record, columns = ['Name', 'Age', 'Stream', 'Percentage'])\n",
    "\n",
    "print(\"Given Dataframe :\\n\", dataframe) \n",
    "\n"
   ]
  },
  {
   "cell_type": "code",
   "execution_count": 131,
   "id": "0f8637ae",
   "metadata": {},
   "outputs": [],
   "source": [
    "options = ['Math', 'Science']\n",
    "\n"
   ]
  },
  {
   "cell_type": "code",
   "execution_count": 150,
   "id": "e11625aa",
   "metadata": {},
   "outputs": [
    {
     "data": {
      "text/plain": [
       "0     True\n",
       "1    False\n",
       "2    False\n",
       "3    False\n",
       "4    False\n",
       "5     True\n",
       "dtype: bool"
      ]
     },
     "execution_count": 150,
     "metadata": {},
     "output_type": "execute_result"
    }
   ],
   "source": [
    "(dataframe['Age'] == 21) & (dataframe[\"Stream\"].isin(options))"
   ]
  },
  {
   "cell_type": "code",
   "execution_count": 142,
   "id": "935bd103",
   "metadata": {},
   "outputs": [
    {
     "data": {
      "text/plain": [
       "0     True\n",
       "1    False\n",
       "2     True\n",
       "3     True\n",
       "4     True\n",
       "5     True\n",
       "Name: Stream, dtype: bool"
      ]
     },
     "execution_count": 142,
     "metadata": {},
     "output_type": "execute_result"
    }
   ],
   "source": [
    "dataframe[\"Stream\"].isin(options)"
   ]
  },
  {
   "cell_type": "code",
   "execution_count": 144,
   "id": "0b274f9e",
   "metadata": {},
   "outputs": [
    {
     "data": {
      "text/plain": [
       "0     True\n",
       "1    False\n",
       "2    False\n",
       "3    False\n",
       "4    False\n",
       "5     True\n",
       "Name: Age, dtype: bool"
      ]
     },
     "execution_count": 144,
     "metadata": {},
     "output_type": "execute_result"
    }
   ],
   "source": [
    "dataframe[\"Age\"]==21"
   ]
  },
  {
   "cell_type": "code",
   "execution_count": null,
   "id": "f8a233aa",
   "metadata": {},
   "outputs": [],
   "source": []
  }
 ],
 "metadata": {
  "kernelspec": {
   "display_name": "Python 3 (ipykernel)",
   "language": "python",
   "name": "python3"
  },
  "language_info": {
   "codemirror_mode": {
    "name": "ipython",
    "version": 3
   },
   "file_extension": ".py",
   "mimetype": "text/x-python",
   "name": "python",
   "nbconvert_exporter": "python",
   "pygments_lexer": "ipython3",
   "version": "3.10.9"
  }
 },
 "nbformat": 4,
 "nbformat_minor": 5
}
